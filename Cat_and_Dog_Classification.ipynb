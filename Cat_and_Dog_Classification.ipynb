{
 "cells": [
  {
   "cell_type": "code",
   "execution_count": 1,
   "metadata": {
    "id": "ZoJcSBClRoqT"
   },
   "outputs": [
    {
     "name": "stderr",
     "output_type": "stream",
     "text": [
      "ERROR: Could not find a version that satisfies the requirement tensorflow (from versions: none)\n",
      "ERROR: No matching distribution found for tensorflow\n"
     ]
    }
   ],
   "source": [
    "!pip install numpy -q\n",
    "!pip install pandas -q\n",
    "!pip install matplotlib -q\n",
    "!pip install tensorflow -q\n",
    "\n",
    "!pip install opendatasets -q"
   ]
  },
  {
   "cell_type": "markdown",
   "metadata": {
    "id": "wXVjm7juUO7a"
   },
   "source": [
    "# **Importing Libraries**"
   ]
  },
  {
   "cell_type": "code",
   "execution_count": 2,
   "metadata": {
    "id": "ttFy3mGYUMtD"
   },
   "outputs": [
    {
     "ename": "ModuleNotFoundError",
     "evalue": "No module named 'tensorflow'",
     "output_type": "error",
     "traceback": [
      "\u001b[1;31m---------------------------------------------------------------------------\u001b[0m",
      "\u001b[1;31mModuleNotFoundError\u001b[0m                       Traceback (most recent call last)",
      "Cell \u001b[1;32mIn[2], line 4\u001b[0m\n\u001b[0;32m      2\u001b[0m \u001b[38;5;28;01mimport\u001b[39;00m \u001b[38;5;21;01mpandas\u001b[39;00m \u001b[38;5;28;01mas\u001b[39;00m \u001b[38;5;21;01mpd\u001b[39;00m\n\u001b[0;32m      3\u001b[0m \u001b[38;5;28;01mimport\u001b[39;00m \u001b[38;5;21;01mmatplotlib\u001b[39;00m\u001b[38;5;21;01m.\u001b[39;00m\u001b[38;5;21;01mpyplot\u001b[39;00m \u001b[38;5;28;01mas\u001b[39;00m \u001b[38;5;21;01mplt\u001b[39;00m\n\u001b[1;32m----> 4\u001b[0m \u001b[38;5;28;01mimport\u001b[39;00m \u001b[38;5;21;01mtensorflow\u001b[39;00m \u001b[38;5;28;01mas\u001b[39;00m \u001b[38;5;21;01mtf\u001b[39;00m\n\u001b[0;32m      5\u001b[0m \u001b[38;5;28;01mimport\u001b[39;00m \u001b[38;5;21;01mopendatasets\u001b[39;00m \u001b[38;5;28;01mas\u001b[39;00m \u001b[38;5;21;01mod\u001b[39;00m\n",
      "\u001b[1;31mModuleNotFoundError\u001b[0m: No module named 'tensorflow'"
     ]
    }
   ],
   "source": [
    "import numpy as np\n",
    "import pandas as pd\n",
    "import matplotlib.pyplot as plt\n",
    "import tensorflow as tf\n",
    "import opendatasets as od"
   ]
  },
  {
   "cell_type": "code",
   "execution_count": null,
   "metadata": {
    "colab": {
     "base_uri": "https://localhost:8080/"
    },
    "id": "rq9LrmDhUajC",
    "outputId": "f88bd58e-3388-4cfe-bd66-80d681ffaddb"
   },
   "outputs": [],
   "source": [
    "od.download(\"https://www.kaggle.com/datasets/tongpython/cat-and-dog\")"
   ]
  },
  {
   "cell_type": "code",
   "execution_count": null,
   "metadata": {
    "id": "s99_9zYxUk1D"
   },
   "outputs": [],
   "source": [
    "Batch_size = 32\n",
    "Image_size = (128,128)"
   ]
  },
  {
   "cell_type": "code",
   "execution_count": null,
   "metadata": {
    "id": "P5KVtvqsVf9C"
   },
   "outputs": [],
   "source": [
    "train_data_dir = \"/content/cat-and-dog/training_set/training_set\"\n",
    "test_data_dir = \"/content/cat-and-dog/test_set/test_set\""
   ]
  },
  {
   "cell_type": "code",
   "execution_count": null,
   "metadata": {
    "colab": {
     "base_uri": "https://localhost:8080/"
    },
    "id": "56YjO8dtVuO7",
    "outputId": "e84aa272-b998-4c9f-95b9-ed217650f5ba"
   },
   "outputs": [],
   "source": [
    "train_data = tf.keras.utils.image_dataset_from_directory(train_data_dir,\n",
    "                                                       image_size = Image_size,\n",
    "                                                       batch_size = Batch_size,\n",
    "                                                       subset = 'training',\n",
    "                                                       validation_split = 0.1,\n",
    "                                                       seed = 42)\n",
    "\n",
    "validation_data = tf.keras.utils.image_dataset_from_directory(train_data_dir,\n",
    "                                                       image_size = Image_size,\n",
    "                                                       batch_size = Batch_size,\n",
    "                                                       subset = 'validation',\n",
    "                                                       validation_split = 0.1,\n",
    "                                                       seed = 42)"
   ]
  },
  {
   "cell_type": "code",
   "execution_count": null,
   "metadata": {
    "colab": {
     "base_uri": "https://localhost:8080/"
    },
    "id": "OR8HxliXWoDx",
    "outputId": "7ccad2ab-38c8-464c-fec5-17721606fc11"
   },
   "outputs": [],
   "source": [
    "test_data = tf.keras.utils.image_dataset_from_directory(test_data_dir,\n",
    "                                                       image_size = Image_size,\n",
    "                                                       batch_size = Batch_size)"
   ]
  },
  {
   "cell_type": "markdown",
   "metadata": {
    "id": "9PatknkvXqKB"
   },
   "source": [
    "# **Dataset Description**"
   ]
  },
  {
   "cell_type": "code",
   "execution_count": null,
   "metadata": {
    "colab": {
     "base_uri": "https://localhost:8080/"
    },
    "id": "6kQr9Ui_Wtkg",
    "outputId": "360f97b1-a7ec-488e-d229-27eedf333fca"
   },
   "outputs": [],
   "source": [
    "class_names = train_data.class_names\n",
    "class_names"
   ]
  },
  {
   "cell_type": "code",
   "execution_count": null,
   "metadata": {
    "colab": {
     "base_uri": "https://localhost:8080/"
    },
    "id": "p-CYMqJEXChQ",
    "outputId": "fe645239-e12b-4fb8-a192-10b1f25ed855"
   },
   "outputs": [],
   "source": [
    "for image_batch,label_batch in train_data.take(1):\n",
    "  print(image_batch.shape)\n",
    "  print(label_batch.shape)"
   ]
  },
  {
   "cell_type": "code",
   "execution_count": null,
   "metadata": {
    "colab": {
     "base_uri": "https://localhost:8080/",
     "height": 338
    },
    "id": "NhMUJo9aXV_g",
    "outputId": "f46682b5-16d7-4ac5-b5d5-4dc1adf48997"
   },
   "outputs": [],
   "source": [
    "plt.figure(figsize=(10,4))\n",
    "for image,label in train_data.take(1):\n",
    "  for i in range(12):\n",
    "    ax = plt.subplot(2,6,i+1)\n",
    "    plt.imshow(image[i].numpy().astype(\"uint8\"))\n",
    "    plt.title(class_names[label[i]])\n",
    "    plt.axis(\"off\")"
   ]
  },
  {
   "cell_type": "markdown",
   "metadata": {
    "id": "dTM-XxCjYXru"
   },
   "source": [
    "# **Data Preprocessing**"
   ]
  },
  {
   "cell_type": "code",
   "execution_count": null,
   "metadata": {
    "colab": {
     "base_uri": "https://localhost:8080/"
    },
    "id": "CEj1agcGYIIX",
    "outputId": "aa800774-5d4d-4c0f-d1d9-36735a5f59be"
   },
   "outputs": [],
   "source": [
    "for image,label in train_data.take(1):\n",
    "  for i in range(1):\n",
    "    print(image)"
   ]
  },
  {
   "cell_type": "code",
   "execution_count": null,
   "metadata": {
    "id": "ZRrH2JLXY0mv"
   },
   "outputs": [],
   "source": [
    "train_data = train_data.map(lambda x,y : (x/255,y))\n",
    "validation_data = validation_data.map(lambda x,y : (x/255,y))\n",
    "test_data = test_data.map(lambda x,y : (x/255,y))"
   ]
  },
  {
   "cell_type": "code",
   "execution_count": null,
   "metadata": {
    "colab": {
     "base_uri": "https://localhost:8080/"
    },
    "id": "NBnHVyW_ZHU3",
    "outputId": "3eaa2e40-ac19-4af5-be9a-f6bb36106260"
   },
   "outputs": [],
   "source": [
    "for image,label in train_data.take(1):\n",
    "  for i in range(1):\n",
    "    print(image)"
   ]
  },
  {
   "cell_type": "code",
   "execution_count": null,
   "metadata": {
    "colab": {
     "base_uri": "https://localhost:8080/"
    },
    "id": "BDlTjlp6ZKxf",
    "outputId": "465205d2-38d6-4fb7-de2d-7d6b0ff86418"
   },
   "outputs": [],
   "source": [
    "# Data Augmentation\n",
    "data_augmentation = tf.keras.Sequential([\n",
    "    tf.keras.layers.RandomFlip(\"horizontal_and_vertical\", input_shape=(128, 128, 3)),\n",
    "    tf.keras.layers.RandomRotation(0.2),\n",
    "    tf.keras.layers.RandomZoom(0.2),\n",
    "    tf.keras.layers.RandomContrast(0.2),\n",
    "    tf.keras.layers.RandomTranslation(height_factor=0.1, width_factor=0.1),\n",
    "])\n"
   ]
  },
  {
   "cell_type": "code",
   "execution_count": null,
   "metadata": {
    "id": "z7eDZBddpcS0"
   },
   "outputs": [],
   "source": [
    "model = tf.keras.Sequential()\n",
    "\n",
    "model.add(data_augmentation)\n",
    "\n",
    "# Convolutional layers\n",
    "model.add(tf.keras.layers.Conv2D(64, kernel_size=3, padding='same', activation='relu'))\n",
    "model.add(tf.keras.layers.MaxPooling2D())\n",
    "\n",
    "model.add(tf.keras.layers.Conv2D(128, kernel_size=3, padding='same', activation='relu'))\n",
    "model.add(tf.keras.layers.MaxPooling2D())\n",
    "\n",
    "model.add(tf.keras.layers.Conv2D(256, kernel_size=3, padding='same', activation='relu'))\n",
    "model.add(tf.keras.layers.MaxPooling2D())\n",
    "\n",
    "model.add(tf.keras.layers.Dropout(0.3))\n",
    "\n",
    "# Flatten and dense layers\n",
    "model.add(tf.keras.layers.Flatten())\n",
    "model.add(tf.keras.layers.Dense(512, activation='relu'))\n",
    "\n",
    "model.add(tf.keras.layers.BatchNormalization())\n",
    "model.add(tf.keras.layers.Dropout(0.3))\n",
    "\n",
    "model.add(tf.keras.layers.Dense(256, activation='relu'))\n",
    "model.add(tf.keras.layers.Dense(1, activation='sigmoid'))\n",
    "\n",
    "# Compile the model\n",
    "model.compile(optimizer='adam', loss='binary_crossentropy', metrics=['accuracy'])\n"
   ]
  },
  {
   "cell_type": "code",
   "execution_count": null,
   "metadata": {
    "colab": {
     "base_uri": "https://localhost:8080/",
     "height": 593
    },
    "id": "wfoBOd5ntRjv",
    "outputId": "261e4157-7580-40f7-ed78-290eec194aaa"
   },
   "outputs": [],
   "source": [
    "model.summary()"
   ]
  },
  {
   "cell_type": "code",
   "execution_count": null,
   "metadata": {
    "id": "yF9RBfIBti85"
   },
   "outputs": [],
   "source": [
    "model.compile(optimizer=tf.keras.optimizers.Adam(),\n",
    "              loss=tf.keras.losses.BinaryCrossentropy(),\n",
    "              metrics=['accuracy'])"
   ]
  },
  {
   "cell_type": "code",
   "execution_count": null,
   "metadata": {
    "colab": {
     "base_uri": "https://localhost:8080/"
    },
    "id": "y51Fv-FLt4K-",
    "outputId": "51ae94ce-0a30-4f3f-b101-cbf3f1bf7e51"
   },
   "outputs": [],
   "source": [
    "history = model.fit(train_data,\n",
    "                    epochs=50,\n",
    "                    validation_data=validation_data)"
   ]
  },
  {
   "cell_type": "code",
   "execution_count": null,
   "metadata": {
    "colab": {
     "base_uri": "https://localhost:8080/",
     "height": 478
    },
    "id": "VrQJC7S9uC22",
    "outputId": "72bb4212-8724-460c-bf6b-a7553cac2b9d"
   },
   "outputs": [],
   "source": [
    "fig = plt.figure()\n",
    "plt.plot(history.history['loss'], color='teal', label='loss')\n",
    "plt.plot(history.history['val_loss'], color='orange', label='val_loss')\n",
    "fig.suptitle('Loss', fontsize=20)\n",
    "plt.legend()\n",
    "plt.show()\n"
   ]
  },
  {
   "cell_type": "code",
   "execution_count": null,
   "metadata": {
    "colab": {
     "base_uri": "https://localhost:8080/",
     "height": 478
    },
    "id": "CpGEAsP9Gbab",
    "outputId": "e4a85b04-7fd3-4bfd-9b4b-43dceb3747fd"
   },
   "outputs": [],
   "source": [
    "fig = plt.figure()\n",
    "plt.plot(history.history['accuracy'], color='teal', label='accuracy')\n",
    "plt.plot(history.history['val_accuracy'], color='orange', label='val_accuracy')\n",
    "fig.suptitle('Accuracy', fontsize=20)\n",
    "plt.legend()\n",
    "plt.show()"
   ]
  },
  {
   "cell_type": "markdown",
   "metadata": {
    "id": "Wu4Y7hEDGj7T"
   },
   "source": [
    "# **Model Evaluation**"
   ]
  },
  {
   "cell_type": "code",
   "execution_count": null,
   "metadata": {
    "id": "P2vvSb0gGds8"
   },
   "outputs": [],
   "source": [
    "precision = tf.keras.metrics.Precision()\n",
    "recall = tf.keras.metrics.Recall()\n",
    "accuracy = tf.keras.metrics.BinaryAccuracy()"
   ]
  },
  {
   "cell_type": "code",
   "execution_count": null,
   "metadata": {
    "colab": {
     "base_uri": "https://localhost:8080/"
    },
    "id": "xWlOB2LgGpsb",
    "outputId": "df0c67f3-10bc-4090-e13b-616dae88ea64"
   },
   "outputs": [],
   "source": [
    "for batch in test_data.as_numpy_iterator():\n",
    "    X, y = batch\n",
    "    yhat = model.predict(X)\n",
    "    precision.update_state(y, yhat)\n",
    "    recall.update_state(y, yhat)\n",
    "    accuracy.update_state(y, yhat)"
   ]
  },
  {
   "cell_type": "code",
   "execution_count": null,
   "metadata": {
    "colab": {
     "base_uri": "https://localhost:8080/"
    },
    "id": "zdbx-P5cGrq7",
    "outputId": "a4f058c9-1edc-4eed-ed6c-9bd22a215c5e"
   },
   "outputs": [],
   "source": [
    "precision.result().numpy(), recall.result().numpy(), accuracy.result().numpy()"
   ]
  },
  {
   "cell_type": "code",
   "execution_count": null,
   "metadata": {
    "colab": {
     "base_uri": "https://localhost:8080/"
    },
    "id": "0piIxNKUG07F",
    "outputId": "abf70251-f511-45ab-f9cc-f784c6e48564"
   },
   "outputs": [],
   "source": [
    "!pip install opencv-python"
   ]
  },
  {
   "cell_type": "code",
   "execution_count": null,
   "metadata": {
    "id": "u4IWA46DHHG0"
   },
   "outputs": [],
   "source": [
    "import cv2"
   ]
  },
  {
   "cell_type": "code",
   "execution_count": null,
   "metadata": {
    "colab": {
     "base_uri": "https://localhost:8080/",
     "height": 435
    },
    "id": "EofJ-zz8HKQx",
    "outputId": "aa466e63-bd00-434d-ea1e-ed3e80df259c"
   },
   "outputs": [],
   "source": [
    "image = cv2.imread('/content/cat-and-dog/test_set/test_set/cats/cat.4330.jpg')\n",
    "plt.imshow(image)\n",
    "plt.show()"
   ]
  },
  {
   "cell_type": "code",
   "execution_count": null,
   "metadata": {
    "id": "F-smFSy7HbOU"
   },
   "outputs": [],
   "source": [
    "resized_image = tf.image.resize(image, Image_size)\n",
    "scaled_image = resized_image/255"
   ]
  },
  {
   "cell_type": "code",
   "execution_count": null,
   "metadata": {
    "colab": {
     "base_uri": "https://localhost:8080/"
    },
    "id": "feCK7_bzH0Mh",
    "outputId": "6e985805-5296-4a69-c7bf-bce8a0847341"
   },
   "outputs": [],
   "source": [
    "scaled_image"
   ]
  },
  {
   "cell_type": "code",
   "execution_count": null,
   "metadata": {
    "colab": {
     "base_uri": "https://localhost:8080/"
    },
    "id": "PO-27q-SH2Tw",
    "outputId": "1e04b55d-bfa4-469a-849d-3243dc660d88"
   },
   "outputs": [],
   "source": [
    "np.expand_dims(scaled_image,0).shape"
   ]
  },
  {
   "cell_type": "code",
   "execution_count": null,
   "metadata": {
    "colab": {
     "base_uri": "https://localhost:8080/"
    },
    "id": "WqlEnfV1ILFJ",
    "outputId": "66c30401-aecb-44b6-d417-5e0f2d943fe9"
   },
   "outputs": [],
   "source": [
    "y_hat = model.predict(np.expand_dims(scaled_image,0))"
   ]
  },
  {
   "cell_type": "code",
   "execution_count": null,
   "metadata": {
    "colab": {
     "base_uri": "https://localhost:8080/"
    },
    "id": "ldhoDquJIRfR",
    "outputId": "5eb4b663-d993-499f-8f02-3533b52e86f7"
   },
   "outputs": [],
   "source": [
    "y_hat"
   ]
  },
  {
   "cell_type": "code",
   "execution_count": null,
   "metadata": {
    "colab": {
     "base_uri": "https://localhost:8080/"
    },
    "id": "KmBUn6whIUsI",
    "outputId": "30b785ec-d262-4817-8e4c-d655e07b0198"
   },
   "outputs": [],
   "source": [
    "class_names"
   ]
  },
  {
   "cell_type": "code",
   "execution_count": null,
   "metadata": {
    "colab": {
     "base_uri": "https://localhost:8080/"
    },
    "id": "Tpde-W5aIZk5",
    "outputId": "e212bf29-7608-4f6c-d982-90b64fbec670"
   },
   "outputs": [],
   "source": [
    "if y_hat > 0.5:\n",
    "    print(f'Predicted class is Dog')\n",
    "else:\n",
    "    print(f'Predicted class is Cat')"
   ]
  },
  {
   "cell_type": "code",
   "execution_count": null,
   "metadata": {
    "id": "tJI8ZdOkIt_x"
   },
   "outputs": [],
   "source": []
  }
 ],
 "metadata": {
  "accelerator": "GPU",
  "colab": {
   "gpuType": "T4",
   "provenance": []
  },
  "kernelspec": {
   "display_name": "Python 3 (ipykernel)",
   "language": "python",
   "name": "python3"
  },
  "language_info": {
   "codemirror_mode": {
    "name": "ipython",
    "version": 3
   },
   "file_extension": ".py",
   "mimetype": "text/x-python",
   "name": "python",
   "nbconvert_exporter": "python",
   "pygments_lexer": "ipython3",
   "version": "3.13.1"
  }
 },
 "nbformat": 4,
 "nbformat_minor": 4
}
